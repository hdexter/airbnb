{
  "nbformat": 4,
  "nbformat_minor": 0,
  "metadata": {
    "colab": {
      "name": "CSCI4146-Robbie Earle -- Harris Dexter.ipynb",
      "provenance": [],
      "include_colab_link": true
    },
    "kernelspec": {
      "name": "python3",
      "display_name": "Python 3"
    }
  },
  "cells": [
    {
      "cell_type": "markdown",
      "metadata": {
        "id": "view-in-github",
        "colab_type": "text"
      },
      "source": [
        "<a href=\"https://colab.research.google.com/github/hdexter/airbnb/blob/main/CSCI4146_Robbie_Earle_Harris_Dexter.ipynb\" target=\"_parent\"><img src=\"https://colab.research.google.com/assets/colab-badge.svg\" alt=\"Open In Colab\"/></a>"
      ]
    },
    {
      "cell_type": "markdown",
      "metadata": {
        "id": "3swiValoUu5U"
      },
      "source": [
        "<h1><center>CSCI - 4146 - The Process of Data Science - Fall 2020</h1></center>\n",
        "<h1><center>Assignment N</h1></center>\n",
        "\n",
        "<b>Student Name 1</b>  \n",
        "<B00...>  \n",
        "\n",
        "\n",
        "<b>Student Name 2</b>  \n",
        "<B00...>  "
      ]
    },
    {
      "cell_type": "markdown",
      "metadata": {
        "id": "dm4068tkVkZ4"
      },
      "source": [
        "### 1. Task 1<a id='top'></a>\n",
        "\n",
        "Emphasis: Use this code: Bold: __string__ or **string** Italic: _string_ or *string* <a href='#1'>[1]</a>"
      ]
    },
    {
      "cell_type": "code",
      "metadata": {
        "id": "CxXFb3qJUbQs"
      },
      "source": [
        ""
      ],
      "execution_count": null,
      "outputs": []
    },
    {
      "cell_type": "markdown",
      "metadata": {
        "id": "V0IqkU8MVuAW"
      },
      "source": [
        "### 1. Task 2"
      ]
    },
    {
      "cell_type": "code",
      "metadata": {
        "id": "x3wwDHRsV-Ve"
      },
      "source": [
        ""
      ],
      "execution_count": null,
      "outputs": []
    },
    {
      "cell_type": "markdown",
      "metadata": {
        "id": "YPgT8O5FV-uZ"
      },
      "source": [
        "### References:\n",
        "\n",
        "1. https://medium.com/ibm-data-science-experience/markdown-for-jupyter-notebooks-cheatsheet-386c05aeebed <a id='3'></a>"
      ]
    }
  ]
}